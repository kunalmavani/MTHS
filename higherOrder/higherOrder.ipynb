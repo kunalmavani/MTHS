{
 "cells": [
  {
   "cell_type": "markdown",
   "metadata": {},
   "source": [
    "# Lecture: higher-order finite difference schemes \n",
    "\n",
    "### This jupyter-notebook can be downloaded at: \n",
    "#### https://github.com/Fluid-Dynamics-Of-Energy-Systems-Team/MTHS/tree/master/higherOrder\n",
    "\n",
    "~"
   ]
  },
  {
   "cell_type": "code",
   "execution_count": null,
   "metadata": {},
   "outputs": [],
   "source": [
    "from IPython.display import YouTubeVideo\n",
    "YouTubeVideo('IkGIuTdQq84',width = 1000,height=700)\n",
    "# this is the intro"
   ]
  },
  {
   "cell_type": "markdown",
   "metadata": {},
   "source": [
    "In this lecture we will:\n",
    "1. develop some code to test 1st and 2nd order finite difference schemes\n",
    "2. quantify their convergence rates\n",
    "3. develop higher-order differencing schemes\n",
    "4. quantify and compare their convergence rate with 1st and 2nd order schemes\n",
    "5. use the higher-order FD schemes to solve the linear advection equation\n",
    "6. investigate results in more detail\n",
    "7. modified wavenumber analysis"
   ]
  },
  {
   "cell_type": "code",
   "execution_count": null,
   "metadata": {},
   "outputs": [],
   "source": [
    "YouTubeVideo('hAikFUCrjIg',width = 1000,height=700)\n",
    "# taylor expansion"
   ]
  },
  {
   "cell_type": "markdown",
   "metadata": {},
   "source": [
    "# 1. Develop code to test 1st and 2nd order schemes"
   ]
  },
  {
   "cell_type": "code",
   "execution_count": null,
   "metadata": {},
   "outputs": [],
   "source": [
    "import numpy as np\n",
    "import math as m\n",
    "import matplotlib\n",
    "import matplotlib.pyplot as plt\n",
    "%matplotlib inline\n",
    "%config InlineBackend.figure_format = 'retina'\n",
    "matplotlib.rcParams.update({'font.size': 14})\n",
    "matplotlib.rcParams['figure.figsize'] = [14,8]\n",
    "# matplotlib.rcParams['text.usetex'] = False"
   ]
  },
  {
   "cell_type": "code",
   "execution_count": null,
   "metadata": {},
   "outputs": [],
   "source": [
    "YouTubeVideo('pPYBoxBkvLg',width = 1000,height=700)"
   ]
  },
  {
   "cell_type": "markdown",
   "metadata": {},
   "source": [
    "We start by, defining a test function below. We need to make sure that the argument x is such that the function is periodic in x. For periodic functions we don't need to change the discretization at the boundaries at x=0 and x=L, which makes things easier. \n",
    "\n",
    "We also define the analytical derivative for the test function. \n"
   ]
  },
  {
   "cell_type": "code",
   "execution_count": null,
   "metadata": {},
   "outputs": [],
   "source": [
    "def function_with_periodic_boundary(x):\n",
    "    y = np.sin(x)\n",
    "    return y\n",
    "\n",
    "def dydx_analytical(x):\n",
    "    dydx = np.cos(x)\n",
    "    return dydx"
   ]
  },
  {
   "cell_type": "markdown",
   "metadata": {},
   "source": [
    "### Define x-coordinate\n",
    "The periodic boundaries are at i-0.5 and N-0.5. The indicies in python are from 0 to N-1."
   ]
  },
  {
   "cell_type": "markdown",
   "metadata": {},
   "source": [
    "\n",
    "    periodic                                                          periodic\n",
    "       BC                                                                BC\n",
    "       |  points   points                                                |\n",
    "      x=0   |        |                                                  x=L\n",
    "       |    |        |                                                   |\n",
    "       o -- X ------ X ------ X ------ X ---    ...    --- X ------ X -- o .. x\n",
    "            |        |        |        |                   |        |     \n",
    "           i=0       1        2        3                  N-2      N-1    \n"
   ]
  },
  {
   "cell_type": "code",
   "execution_count": null,
   "metadata": {},
   "outputs": [],
   "source": [
    "def coord(L,N):\n",
    "    x = np.linspace(0.5, (N-0.5), N)/N*L\n",
    "    return x\n",
    "\n",
    "# check/print the points for L=2 and N=8\n",
    "x = coord(2, 10)\n",
    "print(x)\n",
    "print(len(x))"
   ]
  },
  {
   "cell_type": "markdown",
   "metadata": {},
   "source": [
    "### Plot the function (in this case y=sin(x))"
   ]
  },
  {
   "cell_type": "code",
   "execution_count": null,
   "metadata": {},
   "outputs": [],
   "source": [
    "x = coord(4*np.pi, 20)\n",
    "y = function_with_periodic_boundary(x)\n",
    "\n",
    "plt.plot(x, y, 'rx-')\n",
    "plt.plot(x, dydx_analytical(x), 'kx-')\n",
    "plt.legend(['y = sin(x)','dy/dx = cos(x)'])\n",
    "plt.xlabel(r'$x$')\n",
    "plt.ylabel(r'$y$')"
   ]
  },
  {
   "cell_type": "markdown",
   "metadata": {},
   "source": [
    "### Implement numerical derivatives\n",
    "\n",
    "- backward difference: $\\frac{\\partial y}{\\partial x} \\approx \\frac{y_i-y_{i-1}}{\\Delta x}$\n",
    "- central difference: $\\frac{\\partial y}{\\partial x} \\approx \\frac{y_{i+1}-y_{i-1}}{2\\Delta x}$\n"
   ]
  },
  {
   "cell_type": "code",
   "execution_count": null,
   "metadata": {},
   "outputs": [],
   "source": [
    "def backwardFD_1stOrd(y,x):\n",
    "    \n",
    "    # get dx by simply subtrating x1-x0\n",
    "    dx = x[1]-x[0]\n",
    "    dydx = np.zeros_like(x)\n",
    "    \n",
    "    # calculate the derivative for all i's\n",
    "    # note, the '%' in line 11 is a modulo operator, which makes sure that i-1 and i+1 \n",
    "    # always stay within the array boundaries == periodic boundary conditions. \n",
    "    for i in range(len(x)):\n",
    "        dydx[i] = (y[i] - y[(i-1)%len(x)])/(dx)\n",
    "    return dydx\n",
    "\n",
    "def centralFD_2ndOrd(y,x):\n",
    "    dx = x[1]-x[0]\n",
    "    dydx = np.zeros_like(x)\n",
    "    for i in range(len(x)):\n",
    "        dydx[i] = (y[(i+1)%len(x)] - y[(i-1)%len(x)])/(2*dx)\n",
    "    return dydx"
   ]
  },
  {
   "cell_type": "code",
   "execution_count": null,
   "metadata": {},
   "outputs": [],
   "source": [
    "plt.plot(x, dydx_analytical(x), 'k--')\n",
    "plt.plot(x, backwardFD_1stOrd(y,x), 'rx-')\n",
    "plt.plot(x, centralFD_2ndOrd(y,x), 'bx-')\n",
    "plt.legend(['dy/dx = cos(x)','1st order','2nd order'])\n",
    "plt.xlabel('$x$')\n",
    "plt.ylabel('$dy/dx$')"
   ]
  },
  {
   "cell_type": "markdown",
   "metadata": {},
   "source": [
    "### <font color=blue>Observations: </font>\n",
    "- the 1st-order backward differencing scheme shifts the derivative. \n",
    "- the 2nd order central differencing scheme is more accurate, but underpredicts the derivative at the extrema\n",
    "    "
   ]
  },
  {
   "cell_type": "markdown",
   "metadata": {},
   "source": [
    "# 2. Quantify convergence rates\n",
    "Check convergence rates of backward and central differencing schemes"
   ]
  },
  {
   "cell_type": "code",
   "execution_count": null,
   "metadata": {
    "scrolled": false
   },
   "outputs": [],
   "source": [
    "dx = []\n",
    "error_1stOrd = []\n",
    "error_2ndOrd = []\n",
    "\n",
    "# define a length of 4 pi\n",
    "L = 4.0*np.pi \n",
    "\n",
    "# lets increase the number of points N as a function of 2 to the power of 'i', \n",
    "# where 'i' is from 2 to 11 (note \"range\" stops at N-1!)\n",
    "for i in range(2,12):\n",
    "    \n",
    "    x = coord(L, 2**(i+1))\n",
    "    y = function_with_periodic_boundary(x)\n",
    "\n",
    "    dydx_1stOrd = backwardFD_1stOrd(y,x)\n",
    "    dydx_2ndOrd =  centralFD_2ndOrd(y,x)\n",
    "                \n",
    "    dx.append(x[1]-x[0])\n",
    "    error_1stOrd.append(sum(np.abs(dydx_1stOrd-dydx_analytical(x)))/(len(x)))\n",
    "    error_2ndOrd.append(sum(np.abs(dydx_2ndOrd-dydx_analytical(x)))/(len(x)))\n",
    "\n",
    "plt.loglog(dx, error_1stOrd,'rx')\n",
    "plt.loglog(dx, error_2ndOrd,'bx')\n",
    "\n",
    "plt.loglog(dx, np.array(dx),'r--')\n",
    "plt.loglog(dx, np.array(dx)**2,'b--')\n",
    "plt.xlabel('$\\Delta x$')\n",
    "plt.ylabel('Error, infinity norm')"
   ]
  },
  {
   "cell_type": "markdown",
   "metadata": {},
   "source": [
    "### <font color=blue>Observations:</font>\n",
    "\n",
    "- You can see that the slopes are 1 and 2 for the first and second order derivatives, respectively. \n",
    "- For example, for the second order FD scheme, the error reduced by two orders of magnitude by decreasing $\\Delta x$ by one order of magnitude! Also important to mention that the error (x-symbols) for the second-order scheme is always lower thatn for the fdirst-order scheme."
   ]
  },
  {
   "cell_type": "markdown",
   "metadata": {},
   "source": [
    "# 3. Higher-order finite difference scheme"
   ]
  },
  {
   "cell_type": "code",
   "execution_count": null,
   "metadata": {},
   "outputs": [],
   "source": [
    "YouTubeVideo('_YcFZVlB9zQ',width = 1000,height=700)"
   ]
  },
  {
   "cell_type": "markdown",
   "metadata": {},
   "source": [
    "We can obtain a higher order scheme by extending the finite difference stencil. For example we can define a five-point stencil: \n",
    "$$ \\frac{\\partial^{(1)}y}{\\partial x^{(1)}} = \\frac{1}{\\Delta x}\\left(a y_{i-2} +b y_{i-1} + c y_{i} + d y_{i+1} + e y_{i+2}\\right)$$\n",
    "\n",
    "Now we can use a Taylor expansion for $y$ at all $x_i$ positions. As we will see later, we can truncate the Taylor expansion after five terms. \n",
    "\n",
    "At $(i-2)$ we have the coefficient $a$:    $\\quad y_{i-2} = y_i-\\frac{2\\Delta x}{1!}\\frac{\\partial y}{\\partial x} + \\frac{(2\\Delta x)^2}{2!}\\frac{\\partial^2y}{\\partial x^2} - \\frac{(2\\Delta x)^3}{3!}\\frac{\\partial^3y}{\\partial x^3} + \\frac{(2\\Delta x)^4}{4!}\\frac{\\partial^4y}{\\partial x^4} + \\mathcal{O}(\\Delta x^5)$\n",
    "\n",
    "At $(i-1)$ we have the coefficient $b$:    $\\quad y_{i-1} = y_i-\\frac{\\Delta x}{1!}\\frac{\\partial y}{\\partial x} + \\frac{(\\Delta x)^2}{2!}\\frac{\\partial^2y}{\\partial x^2} - \\frac{(\\Delta x)^3}{3!}\\frac{\\partial^3y}{\\partial x^3} + \\frac{(\\Delta x)^4}{4!}\\frac{\\partial^4y}{\\partial x^4} + \\mathcal{O}(\\Delta x^5)$\n",
    "\n",
    "At $(i~~~~~~~)$ we have the coefficient $c$:    $\\quad y_{i} = y_i$ \n",
    "\n",
    "At $(i+1)$ we have the coefficient $d$:    $\\quad y_{i+1} = y_i+\\frac{\\Delta x}{1!}\\frac{\\partial y}{\\partial x} + \\frac{(\\Delta x)^2}{2!}\\frac{\\partial^2y}{\\partial x^2} + \\frac{(\\Delta x)^3}{3!}\\frac{\\partial^3y}{\\partial x^3} + \\frac{(\\Delta x)^4}{4!}\\frac{\\partial^4y}{\\partial x^4} + \\mathcal{O}(\\Delta x^5)$\n",
    "\n",
    "At $(i+2)$ we have the coefficient $e$:    $\\quad y_{i+2} = y_i+\\frac{2\\Delta x}{1!}\\frac{\\partial y}{\\partial x} + \\frac{(2\\Delta x)^2}{2!}\\frac{\\partial^2y}{\\partial x^2} + \\frac{(2\\Delta x)^3}{3!}\\frac{\\partial^3y}{\\partial x^3} + \\frac{(2\\Delta x)^4}{4!}\\frac{\\partial^4y}{\\partial x^4} + \\mathcal{O}(\\Delta x^5)$\n",
    "\n",
    "Now we can substitute the expansions into the five-point finite difference stencil and  collect the terms for the coefficients to build a matrix. Note, since we have five coefficients we need five equations. Hence we need five terms of the Taylor expansion at each location $x_i$.\n",
    "\n",
    "$$\n",
    "\\begin{matrix} \n",
    "~ & a & b & c & d & e\\\\ \\hline\n",
    "1: &1 & 1 & 1 & 1 & 1\\\\\n",
    "(\\Delta x) \\frac{\\partial y}{\\partial x} :              & -2 & -1 & 0 & 1 & 2\\\\\n",
    "(\\Delta x)^2 \\frac{\\partial^{(2)}y}{\\partial x^{(2)}}  : &  2 & \\frac{1}{2} & 0 & \\frac{1}{2} & 2\\\\\n",
    "(\\Delta x)^3 \\frac{\\partial^{(3)}y}{\\partial x^{(3)}} : & -\\frac{4}{3} & -\\frac{1}{6} & 0 & \\frac{1}{6} & \\frac{4}{3}\\\\\n",
    "(\\Delta x)^4 (\\frac{\\partial^{(4)}y}{\\partial x^{(4)}} : & \\frac{2}{3} & \\frac{1}{24} & 0 )&  \\frac{1}{24} & \\frac{2}{3}\n",
    "\\end{matrix} = \n",
    "\\begin{bmatrix}\n",
    "0\\\\ \\frac{\\partial^{(1)}y}{\\partial x^{(1)}} \\\\0\\\\0\\\\0\n",
    "\\end{bmatrix}$$\n",
    "\n",
    "Now we can solve the linear system to get the coefficients:\n",
    "\n",
    "$$ \\begin{bmatrix}\n",
    "       1 & 1 & 1 & 1 & 1\\\\\n",
    "      -2 & -1 & 0 & 1 & 2\\\\\n",
    "      2 & 1/2 & 0 & 1/2 & 2\\\\\n",
    "      -4/3 & -1/6 & 0 & 1/6 & 4/3 \\\\\n",
    "      2/3 & 1/24 & 0 & 1/24 & 2/3\n",
    "   \\end{bmatrix} \n",
    "   \\begin{bmatrix}\n",
    "   a\\\\b\\\\c\\\\d\\\\e\n",
    "   \\end{bmatrix}\n",
    "   =\n",
    "    \\begin{bmatrix}\n",
    "        0\\\\ \\frac{\\partial^{(1)}y}{\\partial x^{(1)}} \\\\0\\\\0\\\\0\n",
    "    \\end{bmatrix}.\n",
    "$$\n"
   ]
  },
  {
   "cell_type": "markdown",
   "metadata": {},
   "source": [
    "This is the matrix: "
   ]
  },
  {
   "cell_type": "code",
   "execution_count": null,
   "metadata": {},
   "outputs": [],
   "source": [
    "A = np.matrix([[1,1,1,1,1], \n",
    "               [-2, -1, 0, 1, 2], \n",
    "               [ 2, 1/2, 0, 1/2, 2], \n",
    "               [-4/3, -1/6, 0, 1/6, 4/3], \n",
    "               [2/3, 1/24, 0, 1/24, 2/3]] ) "
   ]
  },
  {
   "cell_type": "markdown",
   "metadata": {},
   "source": [
    "Now solve the linear system to obtain the coefficients"
   ]
  },
  {
   "cell_type": "code",
   "execution_count": null,
   "metadata": {},
   "outputs": [],
   "source": [
    "from scipy import linalg \n",
    "\n",
    "coeff = linalg.solve(A, [0,1,0,0,0]) \n",
    "\n",
    "print('These are the coefficients [a,b,c,d,e]: \\n',coeff)"
   ]
  },
  {
   "cell_type": "markdown",
   "metadata": {},
   "source": [
    "### For arbitrary stencils: "
   ]
  },
  {
   "cell_type": "code",
   "execution_count": null,
   "metadata": {},
   "outputs": [],
   "source": [
    "YouTubeVideo('HNGrPah0o44',width = 1000,height=700)"
   ]
  },
  {
   "cell_type": "markdown",
   "metadata": {},
   "source": [
    "We can also define a function which takes as inputs a stencil and the value of the derivative. The value of the derivative is: 1... first derivative, 2... 2nd derivative, and so on. Note, the stencil has to be larger for higher derivatives. \n",
    "\n",
    "Example: A stencil of [-2,-1,0,1,2] and the value '1', gives a 4th-order, first derivative. \n",
    "\n",
    "By inspecting the matrix above, it is easy to see the pattern the coeffients can be  calculated. The coefficients are:\n",
    "$$ A(i,j) = \\frac{j^i}{i!},$$\n",
    "where $j$ is the stencil (for example [-2,-1,0,1,2]) and $i$ is the length of the stencil (in this case i=[0,1,2,3,4])."
   ]
  },
  {
   "cell_type": "code",
   "execution_count": null,
   "metadata": {},
   "outputs": [],
   "source": [
    "def get_FD_coeff(stencil, derivative):\n",
    "    A = np.ones((len(stencil), len(stencil)))\n",
    "\n",
    "    for i in range(1,len(stencil)):\n",
    "        A[i,:] = np.power(stencil,i)/m.factorial(i)\n",
    "\n",
    "    b = np.zeros(len(stencil))\n",
    "    b[derivative] = 1\n",
    "    return linalg.solve(A,b)\n",
    "\n",
    "plt.figure(figsize=(14,4))\n",
    "plt.plot(np.arange(-1,2),get_FD_coeff(np.arange(-1,2), 1),'rx-')\n",
    "plt.plot(np.arange(-2,3),get_FD_coeff(np.arange(-2,3), 1),'gx-')\n",
    "plt.plot(np.arange(-5,6),get_FD_coeff(np.arange(-5,6), 1),'bx-')\n",
    "plt.legend(['central 2nd order', 'central 4th order', 'central 10th order'])\n",
    "plt.xlabel('stencil')\n",
    "plt.ylabel('coeff')"
   ]
  },
  {
   "cell_type": "markdown",
   "metadata": {},
   "source": [
    "And for second-order, 2nd derivative. \n",
    "\n",
    "You can test other derivatives and compare the results with https://en.wikipedia.org/wiki/Finite_difference_coefficient"
   ]
  },
  {
   "cell_type": "markdown",
   "metadata": {},
   "source": [
    "# 4. Quantify convergence rate for a higher-order finite difference scheme\n",
    "To calculate the derivative for an arbitrary FD scheme, we can also say: \n",
    "$$ \\frac{\\partial y}{\\partial x}\\left.\\right|_{\\mathrm{numerical}} = \\sum^\\mathrm{len(Stencil)-1}_{i=0} \\mathrm{coeff}_i \\times y[\\mathrm{Stencil}_i],$$\n",
    "with the 'Stencil' the FD stencil and 'coeff' the coeffcients at each stencil point. For example, for a fourth order scheme, the stencil is [-2,-1,0,1,2]."
   ]
  },
  {
   "cell_type": "code",
   "execution_count": null,
   "metadata": {},
   "outputs": [],
   "source": [
    "def higherOrder_FD(y,x,stencil):\n",
    "    \n",
    "    coeff = get_FD_coeff(stencil, 1)\n",
    "    \n",
    "    dx = x[1]-x[0]\n",
    "    dydx = np.zeros_like(x)\n",
    "    \n",
    "    for i in range(len(x)):\n",
    "        for idx,s in enumerate(stencil):\n",
    "            dydx[i] = dydx[i] + coeff[idx]*y[(i+s)%len(x)]\n",
    "            \n",
    "    return dydx/dx"
   ]
  },
  {
   "cell_type": "code",
   "execution_count": null,
   "metadata": {
    "scrolled": false
   },
   "outputs": [],
   "source": [
    "deltax = []\n",
    "error_1stOrd = []\n",
    "error_2ndOrd = []\n",
    "error_highO6 = []\n",
    "error_highO12 = []\n",
    "\n",
    "L = 4.0*np.pi\n",
    "\n",
    "for i in range(2,12): \n",
    "    \n",
    "    x = coord(L, 2**(i+1))\n",
    "    y = function_with_periodic_boundary(x)\n",
    "\n",
    "    dydx_1stOrd = backwardFD_1stOrd(y,x)\n",
    "    dydx_2ndOrd =  centralFD_2ndOrd(y,x)\n",
    "    \n",
    "    # this is the higher-order FD implementation, change the stencil in [] below\n",
    "    dydx_highOr6 = higherOrder_FD(y,x,[-3,-2,-1,0,1,2,3])\n",
    "    \n",
    "    # this is the higher-order FD implementation, change the stencil in [] below\n",
    "    # np.arange(-6,7) = [-6,-5....5,6]\n",
    "    dydx_highOr12 = higherOrder_FD(y,x,np.arange(-6,7))\n",
    "    \n",
    "                \n",
    "    deltax.append(x[1]-x[0])\n",
    "    error_1stOrd.append(sum(np.abs(dydx_1stOrd-dydx_analytical(x)))/(len(x)))\n",
    "    error_2ndOrd.append(sum(np.abs(dydx_2ndOrd-dydx_analytical(x)))/(len(x)))\n",
    "    error_highO6.append(sum(np.abs(dydx_highOr6-dydx_analytical(x)))/(len(x)))\n",
    "    error_highO12.append(sum(np.abs(dydx_highOr12-dydx_analytical(x)))/(len(x)))\n",
    "\n",
    "plt.loglog(deltax, error_1stOrd,'r*')\n",
    "plt.loglog(deltax, error_2ndOrd,'b^')\n",
    "plt.loglog(deltax, error_highO6,'kx')\n",
    "plt.loglog(deltax, error_highO12,'ms')\n",
    "\n",
    "plt.loglog(deltax, 4e-1*np.array(deltax),'r--')\n",
    "plt.loglog(deltax, 2e-1*np.array(deltax)**2,'b--')\n",
    "plt.loglog(deltax, 7e-3*np.array(deltax)**6,'k--')\n",
    "plt.loglog(deltax, 3e-5*np.array(deltax)**12,'m--')\n",
    "plt.legend(['1st order','2nd order','6th order','12th order'])\n",
    "plt.xlabel('$\\Delta x$')\n",
    "plt.ylabel('Error: infinity norm')\n",
    "plt.ylim(1e-15,10)"
   ]
  },
  {
   "cell_type": "markdown",
   "metadata": {},
   "source": [
    "### <font color=blue>Try yourself</font>\n",
    "- Try other schemes to see how they behave. You can also use one-sided (off centered) FD schemes."
   ]
  },
  {
   "cell_type": "markdown",
   "metadata": {},
   "source": [
    "### We can also plot the derivatives to visually inspect the differences"
   ]
  },
  {
   "cell_type": "code",
   "execution_count": null,
   "metadata": {
    "scrolled": false
   },
   "outputs": [],
   "source": [
    "x = coord(4*np.pi, 9)\n",
    "y = function_with_periodic_boundary(x)\n",
    "\n",
    "plt.plot(x, dydx_analytical(x), 'ks')\n",
    "plt.plot(x, centralFD_2ndOrd(y,x), 'y-')\n",
    "plt.plot(x, higherOrder_FD(y,x,[-2,-1,0,1,2]), 'b-')\n",
    "plt.plot(x, higherOrder_FD(y,x,[-3,-2,-1,0,1,2,3]), 'r-')\n",
    "plt.legend(['dy/dx = cos(x)','2nd order','4th order','6th order'])\n",
    "plt.xlabel('$\\Delta x')\n",
    "plt.ylabel('dy/dx')"
   ]
  },
  {
   "cell_type": "markdown",
   "metadata": {},
   "source": [
    "# 5. Now let's test the linear advection equation with different FD schemes \n",
    "\n",
    "The equation for the linear advection is: \n",
    "$$\\frac{\\partial \\phi}{\\partial t} + U\\frac{\\partial \\phi}{\\partial x} = 0$$"
   ]
  },
  {
   "cell_type": "code",
   "execution_count": null,
   "metadata": {},
   "outputs": [],
   "source": [
    "YouTubeVideo('uVvmy6ljHeo',width = 1000,height=700)"
   ]
  },
  {
   "cell_type": "markdown",
   "metadata": {},
   "source": [
    "First, we define the domain, the initial condition and other parameters:"
   ]
  },
  {
   "cell_type": "code",
   "execution_count": null,
   "metadata": {},
   "outputs": [],
   "source": [
    "L   = 1                # length of domain\n",
    "N   = 100              # number of points\n",
    "U   = 1.0              # advection velocity \n",
    "CFL = 1.0              # define CFL number\n",
    "\n",
    "x   = coord(L,N)       # x - coordinates based on L and N=100\n",
    "dx  = x[1]-x[0]        # get delta x\n",
    "dt  = CFL*dx/abs(U)    # calculate delta t based on the CFL number\n",
    "nTSPerPeriod = L/dt/U  # number of time steps per period  \n",
    "\n",
    "\n",
    "# define initial profile\n",
    "initialProfile = 2\n",
    "\n",
    "if initialProfile == 1:    # hump  \n",
    "    fact = 0.02\n",
    "    phi = np.tanh((x - 0.3*L)/fact) + np.tanh((0.7*L - x)/fact)\n",
    "\n",
    "elif initialProfile == 2:  # Gauss bell\n",
    "    sigma = 0.1\n",
    "    t = x-0.5\n",
    "    phi = np.exp(-((x-0.5)/sigma)**2)\n",
    "    \n",
    "elif initialProfile == 3:  # Mexican hat\n",
    "    sigma = 0.10\n",
    "    t = x-0.5\n",
    "    phi = (1-(t/sigma)**2)*np.exp(-1/(2*sigma**2)*t**2)\n",
    "\n",
    "phiInitial = phi\n",
    "\n",
    "\n",
    "# plot initial profile\n",
    "plt.figure(figsize=(12, 4))\n",
    "plt.plot(x,phi,'rx--')"
   ]
  },
  {
   "cell_type": "markdown",
   "metadata": {},
   "source": [
    "## Classic fourth-order method Runge-Kutta scheme\n",
    "\n",
    "We can define the right-hand-side as: \n",
    "$$RHS = -U\\frac{\\partial \\phi}{\\partial x}$$\n",
    "such that\n",
    "$$\\frac{\\partial \\phi}{\\partial t} = RHS$$\n",
    "\n",
    "With the definition of the RHS we can simply code the Runge-Kutta scheme:\n",
    "$$ rhs_1 = rhs(\\phi) $$\n",
    "$$ rhs_2 = rhs(\\phi + 0.5*\\Delta t~rhs_1) $$\n",
    "$$ rhs_3 = rhs(\\phi + 0.5*\\Delta t~rhs_2) $$\n",
    "$$ rhs_3 = rhs(\\phi + \\Delta t~rhs_3) $$\n",
    "$$ \\phi^{n+1} = \\phi^n + \\Delta t (rhs_1 + 2~rhs_2 + 2~rhs_3 + rhs_4)/6$$ "
   ]
  },
  {
   "cell_type": "code",
   "execution_count": null,
   "metadata": {},
   "outputs": [],
   "source": [
    "def RHS(phi, stencil):\n",
    "    return - U * higherOrder_FD(phi, x, stencil)\n",
    "\n",
    "def rk4(phi, stencil): \n",
    "    rhs1 = RHS(phi,             stencil)\n",
    "    rhs2 = RHS(phi + dt/2*rhs1, stencil)\n",
    "    rhs3 = RHS(phi + dt/2*rhs2, stencil)\n",
    "    rhs4 = RHS(phi + dt*rhs3,   stencil) \n",
    "    return phi + dt*(rhs1 + 2*rhs2 + 2*rhs3 + rhs4)/6\n",
    "\n",
    "\n",
    "phi = phiInitial\n",
    "\n",
    "for i in range(18):\n",
    "    phi = rk4(phi, [-2,-1,0]) ## stencil is second order upwind\n",
    "\n",
    "plt.figure(figsize=(14,5))\n",
    "plt.plot(x,phiInitial,'r-')\n",
    "plt.plot(x,phi,'b-')"
   ]
  },
  {
   "cell_type": "markdown",
   "metadata": {},
   "source": [
    "### Let's animate"
   ]
  },
  {
   "cell_type": "code",
   "execution_count": null,
   "metadata": {},
   "outputs": [],
   "source": [
    "YouTubeVideo('X__amxw_RAs',width = 1000,height=700)"
   ]
  },
  {
   "cell_type": "code",
   "execution_count": null,
   "metadata": {},
   "outputs": [],
   "source": [
    "# Before we start, we need to import some libraries to make animations\n",
    "from matplotlib import animation,rc\n",
    "rc('animation', html='jshtml')\n",
    "from IPython.display import HTML\n",
    "matplotlib.rcParams['animation.embed_limit'] = 1e8 ### this is almost 100MB so be careful"
   ]
  },
  {
   "cell_type": "code",
   "execution_count": null,
   "metadata": {},
   "outputs": [],
   "source": [
    "# set phi to initial values \n",
    "phi1 = phiInitial\n",
    "phi2 = phiInitial\n",
    "phi3 = phiInitial\n",
    "\n",
    "# initialize figure, set size, get axis and figure handles, and plot initial condition\n",
    "fig = plt.figure(figsize=(12, 7))\n",
    "ax  = plt.axes(xlim=(0, 1),ylim=(-.2, 1.1))\n",
    "ax.plot(x, phiInitial, 'rx')\n",
    "line1, = ax.plot([], [], lw=2)\n",
    "line2, = ax.plot([], [], lw=2)\n",
    "line3, = ax.plot([], [], lw=2)\n",
    "plt.legend(['Initial','1st-order','2nd-order','higher-order'],loc='upper right')\n",
    "plt.close(fig)\n",
    "\n",
    "# define init for animation\n",
    "def init():\n",
    "    line1.set_data([], [])\n",
    "    line2.set_data([], [])\n",
    "    line3.set_data([], [])\n",
    "    return line1,line2,line3\n",
    "\n",
    "# define animation\n",
    "def animate(i): \n",
    "    global phi1,phi2,phi3\n",
    "    line1.set_data(x, phi1)\n",
    "    line2.set_data(x, phi2)\n",
    "    line3.set_data(x, phi3)\n",
    "    phi1 = rk4(phi1, stencil = [    -1, 0      ])  # 1st-order backward diff\n",
    "    phi2 = rk4(phi2, stencil = [    -1, 0, 1   ])  # 2nd-order central diff\n",
    "    phi3 = rk4(phi3, stencil = [-2, -1, 0, 1, 2])  # 4th-order central diff\n",
    "    return line1,line2,line3\n",
    "\n",
    "# animate!\n",
    "anim = animation.FuncAnimation(fig, animate, init_func=init, \n",
    "                               frames=int(4*nTSPerPeriod)+1, interval=15, blit=True)\n",
    "anim"
   ]
  },
  {
   "cell_type": "markdown",
   "metadata": {},
   "source": [
    "### <font color=blue>Change schemes and discuss results:</font>\n",
    "- change the stencil in line 24 to backward difference scheme: 'stencil = [-1,0]'\n",
    "- change the stencil in line 24 to backward difference scheme: 'stencil = [-1,0,1]'\n",
    "- switch from rk4 to to Euler forward time-integration scheme using the previous stencil. Solution will blow up. Why?\n",
    "- Try other higher-order schemes to see how they behave. Switch back to rk4. \n",
    "- also try to change the initial profile in the code above (for example, the value of fact)\n",
    "- feel free to changed other things. "
   ]
  },
  {
   "cell_type": "code",
   "execution_count": null,
   "metadata": {},
   "outputs": [],
   "source": [
    "phi = phiInitial\n",
    "plt.plot(x,phi)\n",
    "\n",
    "fftphi = np.fft.fft(phi)\n",
    "\n",
    "initial = np.zeros_like(phi)\n",
    "for i in range(len(phi)):\n",
    "    mode = np.zeros_like(fftphi)\n",
    "    mode[i] = fftphi[i]\n",
    "    mode = np.fft.ifft(mode)\n",
    "    plt.plot(x,mode.real)\n",
    "    \n",
    "    initial = initial + mode.real\n",
    "    \n",
    "plt.plot(x,initial,'rx')"
   ]
  },
  {
   "cell_type": "markdown",
   "metadata": {},
   "source": [
    "# 6. Investigate results in more detail\n",
    "So the observation we made are: \n",
    "- backward differencing scheme is very diffusive! This can be explained that we truncated the Taylor expansion at the second order term. "
   ]
  },
  {
   "cell_type": "code",
   "execution_count": null,
   "metadata": {},
   "outputs": [],
   "source": [
    "YouTubeVideo('6jpgcXgbvrg',width = 1000,height=700)"
   ]
  },
  {
   "cell_type": "code",
   "execution_count": null,
   "metadata": {},
   "outputs": [],
   "source": [
    "YouTubeVideo('JQ6nfoZOzsM',width = 1000,height=700)"
   ]
  },
  {
   "cell_type": "code",
   "execution_count": null,
   "metadata": {},
   "outputs": [],
   "source": [
    "def plotResult(x,phi):\n",
    "    fig, axs = plt.subplots(3,figsize=(12, 10))\n",
    "\n",
    "    axs[0].plot(x,phiInitial,'rx')\n",
    "    axs[0].plot(x,phi,'b-')\n",
    "    axs[0].set_xlabel('$x$')\n",
    "    axs[0].set_ylabel('$\\phi$')\n",
    "\n",
    "    phiInit_fft = np.fft.fft(phiInitial)\n",
    "    phi_fft     = np.fft.fft(phi)\n",
    "\n",
    "    axs[1].semilogy(np.arange(1,len(x)//2),1/(len(x)/2)*np.abs(phiInit_fft)[1:len(x)//2],'rx-')\n",
    "    axs[1].semilogy(np.arange(1,len(x)//2),1/(len(x)/2)*np.abs(phi_fft)[1:len(x)//2],'bo-')\n",
    "    axs[1].set_ylabel('Amplitude: abs(fft($\\phi$))')\n",
    "\n",
    "    axs[2].plot(np.arange(1,len(x)//2),180/np.pi*np.angle(phiInit_fft)[1:len(x)//2],'rx-')\n",
    "    axs[2].plot(np.arange(1,len(x)//2),180/np.pi*np.angle(phi_fft)[1:len(x)//2],'bo-')\n",
    "    axs[2].set_xlabel('mode')\n",
    "    axs[2].set_ylabel('phase angle(fft($\\phi$))')"
   ]
  },
  {
   "cell_type": "code",
   "execution_count": null,
   "metadata": {},
   "outputs": [],
   "source": [
    "def makeAnimationOfSingleWaves(stencil):\n",
    "\n",
    "    # initialize figure, set size, get axis and figure handles, and plot initial condition\n",
    "    fig = plt.figure(figsize=(12, 8))\n",
    "    ax1 = plt.axes(xlim=(0, 1), ylim=(-0.3, 0.3))\n",
    "    \n",
    "    lines = []\n",
    "    for i in range(len(phi)):\n",
    "        line, = ax1.plot([], [], lw=2)\n",
    "        lines.append(line)\n",
    "    plt.close(fig)\n",
    "\n",
    "    # define init for animation\n",
    "    def init():\n",
    "        for line in lines:\n",
    "            line.set_data([], [])\n",
    "        return lines\n",
    "\n",
    "    # define animation\n",
    "    def animate(i): \n",
    "        global phi\n",
    "\n",
    "        fftphi = np.fft.fft(phi)\n",
    "        for i,line in enumerate(lines):\n",
    "            singleWave = np.zeros_like(fftphi)\n",
    "            singleWave[i] = fftphi[i]\n",
    "            p = np.fft.ifft(singleWave)\n",
    "            line.set_data(x, p.real)\n",
    "\n",
    "        for i in range(4):\n",
    "            phi = rk4(phi, stencil)\n",
    "        return lines\n",
    "\n",
    "    # animate!\n",
    "    anim = animation.FuncAnimation(fig, animate, init_func=init, \n",
    "                                   frames=int(2*nTSPerPeriod)+1, interval=30, blit=True)\n",
    "    return anim"
   ]
  },
  {
   "cell_type": "markdown",
   "metadata": {},
   "source": [
    "### 1st-order backward difference  "
   ]
  },
  {
   "cell_type": "code",
   "execution_count": null,
   "metadata": {
    "scrolled": false
   },
   "outputs": [],
   "source": [
    "phi = phiInitial\n",
    "\n",
    "for i in range(int(4*nTSPerPeriod)):\n",
    "    phi = rk4(phi, [-1,0])\n",
    "\n",
    "plotResult(x,phi)"
   ]
  },
  {
   "cell_type": "code",
   "execution_count": null,
   "metadata": {},
   "outputs": [],
   "source": [
    "phi = phiInitial\n",
    "makeAnimationOfSingleWaves(stencil=[-1,0])"
   ]
  },
  {
   "cell_type": "markdown",
   "metadata": {},
   "source": [
    "### 2nd-order central difference scheme "
   ]
  },
  {
   "cell_type": "code",
   "execution_count": null,
   "metadata": {
    "scrolled": false
   },
   "outputs": [],
   "source": [
    "phi = phiInitial\n",
    "\n",
    "for i in range(int(6*nTSPerPeriod)):\n",
    "    phi = rk4(phi, stencil=[-1,0,1])\n",
    "\n",
    "plotResult(x,phi)"
   ]
  },
  {
   "cell_type": "code",
   "execution_count": null,
   "metadata": {},
   "outputs": [],
   "source": [
    "phi = phiInitial\n",
    "makeAnimationOfSingleWaves(stencil=[-1,0,1])"
   ]
  },
  {
   "cell_type": "markdown",
   "metadata": {},
   "source": [
    "### Higer-order difference scheme "
   ]
  },
  {
   "cell_type": "code",
   "execution_count": null,
   "metadata": {
    "scrolled": false
   },
   "outputs": [],
   "source": [
    "phi = phiInitial\n",
    "\n",
    "for i in range(int(1.0*nTSPerPeriod)):\n",
    "    phi = rk4(phi, stencil=[-2,-1,0,1,2])\n",
    "\n",
    "plotResult(x,phi)"
   ]
  },
  {
   "cell_type": "code",
   "execution_count": null,
   "metadata": {},
   "outputs": [],
   "source": [
    "phi = phiInitial\n",
    "makeAnimationOfSingleWaves(stencil=[-2,-1,0,1,2])"
   ]
  },
  {
   "cell_type": "markdown",
   "metadata": {},
   "source": [
    "# 7. Modified wavenumber analysis"
   ]
  },
  {
   "cell_type": "markdown",
   "metadata": {},
   "source": [
    "So why is the backward differencing scheme so diffusive and why does the central scheme advect different waves with different wave speeds? \n",
    "\n",
    "Let's start with the backward difference scheme: \n",
    "$$\\frac{\\partial \\phi}{\\partial t} + U \\frac{\\partial \\phi}{\\partial x} = 0$$\n",
    "\n",
    "Using the Taylor series expansion for the spatial derivative, we get \n",
    "$$\\phi_{i-1} = \\phi_i -\\frac{\\Delta x}{1!}\\frac{\\partial \\phi}{\\partial x} + \\frac{\\Delta x^2}{2!} \\frac{\\partial^2 \\phi}{\\partial x^2}+...$$\n",
    "or \n",
    "$$\\frac{\\partial \\phi}{\\partial x} = \\frac{\\phi_i-\\phi_{i-1}}{\\Delta x} - \\frac{\\Delta x}{2!} \\frac{\\partial^2 \\phi}{\\partial x^2} - ...$$\n",
    "Now we can substitute this equation back into the original linear advection equation to get, \n",
    "$$\\frac{\\partial \\phi}{\\partial t} + U \\frac{\\partial \\phi}{\\partial x} = \\frac{\\Delta x}{2!} \\frac{\\partial^2 \\phi}{\\partial x^2} + ...$$\n",
    "You can already see that the equation we are actually solving contains a diffusion term. This has already been discussed in earlier lectures. \n",
    "\n",
    "But what happens for a central difference scheme? \n",
    "\n",
    "Using the same approach as before, we can obtain\n",
    "$$\\frac{\\partial \\phi}{\\partial t} + U \\frac{\\partial \\phi}{\\partial x} + \\frac{\\Delta x^2}{3!} \\frac{\\partial^3 \\phi}{\\partial x^3} + ... = 0$$\n",
    "So what does this additional term do?\n",
    "\n",
    "Using the Fourier ansatz, we can write\n",
    "$$\\phi(x,t=0) = \\hat \\phi e^{jkx},$$\n",
    "with 'j' the imaginary number. \n",
    "Using a single wave and saying that the amplitude of the initial wave is $\\hat \\phi = 1$, we can simply say $\\phi(x,t=0) = e^{ikx}$. \n",
    "For simplicity we only look at \n",
    "$$\\frac{\\partial \\phi}{\\partial t} + \\frac{\\partial^3 \\phi}{\\partial x^3} = 0.$$\n",
    "Using the Fourier ansatz for this equation we get\n",
    "$$\\frac{\\partial \\phi}{\\partial t} + jk^3 \\phi = 0.$$\n",
    "The solution to this equation is \n",
    "$$\\phi(x,t) = e^{jk(x+k^2t)}.$$ \n",
    "What does this mean? The analytic solution to the 'original' linear advection equaiton using the Fourier ansatz is $\\phi = e^{ik(x-Ut)}$. But in the equation above we have instead of 'Ut' as the phase speed '-k^2'. So depending on the wavenumber, we have different phase speeds. Hence we get the separation of the 'waves' if we have even order accuracy of the finite difference scheme! "
   ]
  },
  {
   "cell_type": "code",
   "execution_count": null,
   "metadata": {},
   "outputs": [],
   "source": [
    "stencil = [-2,-1,0]\n",
    "coeff = get_FD_coeff(stencil,1)"
   ]
  },
  {
   "cell_type": "code",
   "execution_count": null,
   "metadata": {},
   "outputs": [],
   "source": [
    "def getModWaveNumber(kdx,stencil):\n",
    "    \n",
    "    coeff = get_FD_coeff(stencil,1)\n",
    "    \n",
    "    kdx_mod = np.zeros_like(kdx)+0j   # add complex part! \n",
    "    \n",
    "    for idx,s in enumerate(stencil): \n",
    "        kdx_mod = kdx_mod + coeff[idx]*np.exp(1j*s*kdx)\n",
    "    return kdx_mod"
   ]
  },
  {
   "cell_type": "code",
   "execution_count": null,
   "metadata": {},
   "outputs": [],
   "source": [
    "\n",
    "kdx = np.linspace(0,np.pi, 100)\n",
    "\n",
    "kdxMod_upwindFD = getModWaveNumber(kdx,[-2,-1,0])\n",
    "kdxMod_centralFD = getModWaveNumber(kdx,[-1,0,1])\n",
    "kdxMod_HighOrdFD1 = getModWaveNumber(kdx,np.arange(-3,4))\n",
    "kdxMod_HighOrdFD2 = getModWaveNumber(kdx,np.arange(-12,13))\n",
    "\n",
    "plt.plot(kdx,kdx,'k--')\n",
    "plt.plot(kdx,kdxMod_upwindFD.imag, 'r--')\n",
    "plt.plot(kdx,kdxMod_centralFD.imag, 'b--')\n",
    "plt.plot(kdx,kdxMod_HighOrdFD1.imag, 'b-')\n",
    "plt.plot(kdx,kdxMod_HighOrdFD2.imag, 'r-')\n",
    "\n",
    "# plt.plot(kdx,kdxMod_upwindFD.real)\n",
    "# plt.plot(kdx,kdxMod_centralFD.real)"
   ]
  },
  {
   "cell_type": "code",
   "execution_count": null,
   "metadata": {},
   "outputs": [],
   "source": []
  },
  {
   "cell_type": "code",
   "execution_count": null,
   "metadata": {},
   "outputs": [],
   "source": []
  }
 ],
 "metadata": {
  "kernelspec": {
   "display_name": "Python 3",
   "language": "python",
   "name": "python3"
  },
  "language_info": {
   "codemirror_mode": {
    "name": "ipython",
    "version": 3
   },
   "file_extension": ".py",
   "mimetype": "text/x-python",
   "name": "python",
   "nbconvert_exporter": "python",
   "pygments_lexer": "ipython3",
   "version": "3.7.6"
  }
 },
 "nbformat": 4,
 "nbformat_minor": 2
}
